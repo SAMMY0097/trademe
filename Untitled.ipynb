{
  "metadata": {
    "language_info": {
      "codemirror_mode": {
        "name": "python",
        "version": 3
      },
      "file_extension": ".py",
      "mimetype": "text/x-python",
      "name": "python",
      "nbconvert_exporter": "python",
      "pygments_lexer": "ipython3",
      "version": "3.8"
    },
    "kernelspec": {
      "name": "python",
      "display_name": "Python (Pyodide)",
      "language": "python"
    }
  },
  "nbformat_minor": 4,
  "nbformat": 4,
  "cells": [
    {
      "cell_type": "markdown",
      "source": "My Jupyter Notebook on IBM Watson Studio",
      "metadata": {}
    },
    {
      "cell_type": "markdown",
      "source": "**SAMUEL OWUSU MANU**\n*ECONOMIST*",
      "metadata": {}
    },
    {
      "cell_type": "markdown",
      "source": "*I am interested in data science because, I love working with data and will want to expand my knowledge in data science*",
      "metadata": {}
    },
    {
      "cell_type": "markdown",
      "source": "Cell 5 should execute simple mathematics",
      "metadata": {}
    },
    {
      "cell_type": "code",
      "source": "1+1",
      "metadata": {
        "trusted": true
      },
      "execution_count": null,
      "outputs": []
    },
    {
      "cell_type": "markdown",
      "source": "http://en.wikipedia.org\n|Header|Header|Header|Header|\n|------|------|------|------|\n|Cell  |Cell  |Cell  | Cell |\n|Cell  |Cell  |Cell  | Cell |\n|Cell  |Cell  |Cell  | Cell |\n|Cell  |Cell  |Cell  | Cell |\n",
      "metadata": {}
    }
  ]
}